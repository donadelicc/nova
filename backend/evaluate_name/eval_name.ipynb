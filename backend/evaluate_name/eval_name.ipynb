{
 "cells": [
  {
   "cell_type": "code",
   "execution_count": null,
   "metadata": {},
   "outputs": [],
   "source": [
    "import numpy as np\n",
    "import matplotlib.pyplot as plt\n",
    "import wave\n",
    "\n",
    "# Angi banen til .wav-filen\n",
    "alexa = \"path/to/your/wav/file.wav\"\n",
    "sire = \"path/to/your/wav/file.wav\"\n",
    "bob = \"path/to/your/wav/file.wav\"\n",
    "lyra = \"path/to/your/wav/file.wav\"\n",
    "rimi = \"path/to/your/wav/file.wav\"\n",
    "\n",
    "# Åpne .wav-filen\n",
    "wav_file = wave.open(wav_file_path, 'r')\n",
    "\n",
    "# Les innholdet i .wav-filen\n",
    "signal = wav_file.readframes(-1)\n",
    "signal = np.frombuffer(signal, dtype=np.int16)\n",
    "\n",
    "# Hent samplingsfrekvensen\n",
    "sample_rate = wav_file.getframerate()\n",
    "\n",
    "# Hent varigheten av lydfilen\n",
    "duration = len(signal) / sample_rate\n",
    "\n",
    "# Generer tidsakser\n",
    "time = np.linspace(0., duration, len(signal))\n",
    "\n",
    "# Plot .wav-filen\n",
    "plt.figure(figsize=(10, 4))\n",
    "plt.plot(time, signal, color='b')\n",
    "plt.xlabel(\"Time (s)\")\n",
    "plt.ylabel(\"Amplitude\")\n",
    "plt.title(\"Waveform of {}\".format(wav_file_path))\n",
    "plt.show()\n",
    "\n",
    "# Lukk .wav-filen\n",
    "wav_file.close()\n"
   ]
  }
 ],
 "metadata": {
  "kernelspec": {
   "display_name": "venv",
   "language": "python",
   "name": "python3"
  },
  "language_info": {
   "name": "python",
   "version": "3.10.11"
  }
 },
 "nbformat": 4,
 "nbformat_minor": 2
}
