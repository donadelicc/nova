{
 "cells": [
  {
   "cell_type": "code",
   "execution_count": 19,
   "metadata": {},
   "outputs": [],
   "source": [
    "import os\n",
    "from openai import OpenAI\n",
    "from langchain_openai import ChatOpenAI\n",
    "from langchain.prompts import (\n",
    "    ChatPromptTemplate,\n",
    "    MessagesPlaceholder,\n",
    "    SystemMessagePromptTemplate,\n",
    "    HumanMessagePromptTemplate,\n",
    "    PromptTemplate\n",
    ")\n",
    "from langchain.chains import LLMChain, ConversationChain\n",
    "from langchain.memory import ConversationBufferMemory\n"
   ]
  },
  {
   "cell_type": "code",
   "execution_count": 2,
   "metadata": {},
   "outputs": [],
   "source": [
    "\n",
    "text_input_folder = os.getenv(\"TEXT_INPUT_FOLDER\")\n",
    "text_output_folder = os.getenv(\"TEXT_OUTPUT_FOLDER\")\n",
    "if not os.path.exists(text_input_folder):\n",
    "    os.makedirs(text_input_folder)\n",
    "if not os.path.exists(text_output_folder):\n",
    "    os.makedirs(text_output_folder)\n"
   ]
  },
  {
   "cell_type": "code",
   "execution_count": 3,
   "metadata": {},
   "outputs": [],
   "source": [
    "llm = ChatOpenAI(\n",
    "    model=\"gpt-3.5-turbo\",\n",
    "    temperature=0.1\n",
    ")"
   ]
  },
  {
   "cell_type": "code",
   "execution_count": 22,
   "metadata": {},
   "outputs": [],
   "source": [
    "prompt= PromptTemplate(\n",
    "     input_variables=['history', 'input'],\n",
    "     template=\"\"\"\n",
    "     The following is a friendly conversation between a human and an AI. \n",
    "     The AI is talkative and provides lots of specific details from its context.\n",
    "     If the AI does not know the answer to a question, it truthfully says it does not know.\n",
    "     \\n\\nCurrent conversation:\\n{history}\\n\n",
    "     Human: {input}\\nAI:\"\"\"\n",
    "     )"
   ]
  },
  {
   "cell_type": "code",
   "execution_count": 23,
   "metadata": {},
   "outputs": [],
   "source": [
    "conversation = ConversationChain(\n",
    "    name=\"Nova\",\n",
    "    llm=llm,\n",
    "    verbose=True,\n",
    "    prompt=prompt,\n",
    "    memory=ConversationBufferMemory(),\n",
    "    \n",
    ")"
   ]
  },
  {
   "cell_type": "code",
   "execution_count": 24,
   "metadata": {},
   "outputs": [],
   "source": [
    "question=\"Hva er 2+2?\""
   ]
  },
  {
   "cell_type": "code",
   "execution_count": 26,
   "metadata": {},
   "outputs": [
    {
     "name": "stdout",
     "output_type": "stream",
     "text": [
      "\n",
      "\n",
      "\u001b[1m> Entering new Nova chain...\u001b[0m\n",
      "Prompt after formatting:\n",
      "\u001b[32;1m\u001b[1;3m\n",
      "     The following is a friendly conversation between a human and an AI. \n",
      "     The AI is talkative and provides lots of specific details from its context.\n",
      "     If the AI does not know the answer to a question, it truthfully says it does not know.\n",
      "     \n",
      "\n",
      "Current conversation:\n",
      "\n",
      "\n",
      "     Human: Hva er 2+2?\n",
      "AI:\u001b[0m\n",
      "\n",
      "\u001b[1m> Finished chain.\u001b[0m\n"
     ]
    }
   ],
   "source": [
    "response = conversation.predict(input=question)\n"
   ]
  },
  {
   "cell_type": "code",
   "execution_count": 27,
   "metadata": {},
   "outputs": [
    {
     "data": {
      "text/plain": [
       "'2 + 2 er lik 4.'"
      ]
     },
     "execution_count": 27,
     "metadata": {},
     "output_type": "execute_result"
    }
   ],
   "source": [
    "response"
   ]
  },
  {
   "cell_type": "code",
   "execution_count": 28,
   "metadata": {},
   "outputs": [
    {
     "name": "stdout",
     "output_type": "stream",
     "text": [
      "\n",
      "\n",
      "\u001b[1m> Entering new Nova chain...\u001b[0m\n",
      "Prompt after formatting:\n",
      "\u001b[32;1m\u001b[1;3m\n",
      "     The following is a friendly conversation between a human and an AI. \n",
      "     The AI is talkative and provides lots of specific details from its context.\n",
      "     If the AI does not know the answer to a question, it truthfully says it does not know.\n",
      "     \n",
      "\n",
      "Current conversation:\n",
      "Human: Hva er 2+2?\n",
      "AI: 2 + 2 er lik 4.\n",
      "\n",
      "     Human: Hva spurte jeg nettopp om?\n",
      "AI:\u001b[0m\n",
      "\n",
      "\u001b[1m> Finished chain.\u001b[0m\n"
     ]
    },
    {
     "data": {
      "text/plain": [
       "'Du spurte nettopp om hva 2+2 er.'"
      ]
     },
     "execution_count": 28,
     "metadata": {},
     "output_type": "execute_result"
    }
   ],
   "source": [
    "question=\"Hva spurte jeg nettopp om?\"\n",
    "response = conversation.predict(input=question)\n",
    "response"
   ]
  },
  {
   "cell_type": "code",
   "execution_count": null,
   "metadata": {},
   "outputs": [],
   "source": [
    "async def response_memory(file_name):\n",
    "    \n",
    "    input_file_path = os.path.join(text_input_folder, file_name)\n",
    "    output_file_path = os.path.join(text_output_folder, \"A.txt\")\n",
    "    \n",
    "    with open(input_file_path, \"r\", encoding=\"utf-8\") as file:\n",
    "        question = file.read()\n",
    "\n",
    "    response = conversation.predict(input=question)\n",
    "    \n",
    "    with open(output_file_path, \"w\", encoding=\"utf-8\") as file:\n",
    "        file.write(response)\n",
    "    return response"
   ]
  }
 ],
 "metadata": {
  "kernelspec": {
   "display_name": "web-venv",
   "language": "python",
   "name": "python3"
  },
  "language_info": {
   "codemirror_mode": {
    "name": "ipython",
    "version": 3
   },
   "file_extension": ".py",
   "mimetype": "text/x-python",
   "name": "python",
   "nbconvert_exporter": "python",
   "pygments_lexer": "ipython3",
   "version": "3.11.5"
  }
 },
 "nbformat": 4,
 "nbformat_minor": 2
}
