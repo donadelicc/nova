{
 "cells": [
  {
   "cell_type": "code",
   "execution_count": null,
   "metadata": {},
   "outputs": [],
   "source": [
    "import numpy as np # linear algebra\n",
    "import pandas as pd # data processing, CSV file I/O (e.g. pd.read_csv)\n",
    "import librosa\n",
    "import matplotlib.pyplot as plt\n",
    "import librosa.display\n",
    "\n",
    "import os\n",
    "for dirname, _, filenames in os.walk('/kaggle/input'):\n",
    "    for filename in filenames:\n",
    "        print(os.path.join(dirname, filename))"
   ]
  },
  {
   "cell_type": "code",
   "execution_count": null,
   "metadata": {},
   "outputs": [],
   "source": []
  },
  {
   "cell_type": "code",
   "execution_count": null,
   "metadata": {},
   "outputs": [],
   "source": [
    "# Navn vi tester:\n",
    "# Alexa\n",
    "# Siri\n",
    "# Bob\n",
    "# Endre\n",
    "# Preben\n",
    "# Alexander\n",
    "\n",
    "# Forslag fra ChatGPT (\"Give me 5 names for personal assistant)\"):\n",
    "# VoxAI\n",
    "# SpeakEase\n",
    "# VoiceMate\n",
    "# EchoSync\n",
    "# SoundSense\n",
    "\n",
    "# Forslag fra ChatGPT (\"Give me 5 names for personal assistant, like Siri and Alexa)\"):\n",
    "# Lyra\n",
    "# Aria\n",
    "# Nova\n",
    "# Luna\n",
    "# Echo\n"
   ]
  },
  {
   "cell_type": "code",
   "execution_count": null,
   "metadata": {},
   "outputs": [],
   "source": [
    "audio_data = \"./Data/Alexa.wav\"\n",
    "x , sr = librosa.load(audio_data)\n",
    "print(type(x), type(sr))\n",
    "print(x.shape, sr)"
   ]
  },
  {
   "cell_type": "code",
   "execution_count": null,
   "metadata": {},
   "outputs": [],
   "source": [
    "librosa.load(audio_data, sr=44100)"
   ]
  },
  {
   "cell_type": "code",
   "execution_count": null,
   "metadata": {},
   "outputs": [],
   "source": [
    "import IPython.display as ipd\n",
    "ipd.Audio(audio_data)"
   ]
  },
  {
   "cell_type": "code",
   "execution_count": null,
   "metadata": {},
   "outputs": [],
   "source": [
    "plt.figure(figsize=(14, 5))\n",
    "plt.plot(x)\n",
    "plt.xlabel('Sample')\n",
    "plt.ylabel('Amplitude')\n",
    "plt.title('Waveform')\n",
    "plt.show()"
   ]
  },
  {
   "cell_type": "code",
   "execution_count": null,
   "metadata": {},
   "outputs": [],
   "source": [
    "X = librosa.stft(x)\n",
    "Xdb = librosa.amplitude_to_db(abs(X))\n",
    "plt.figure(figsize=(14, 5))\n",
    "librosa.display.specshow(Xdb, sr=sr, x_axis='time', y_axis='hz')\n",
    "plt.colorbar()"
   ]
  },
  {
   "cell_type": "code",
   "execution_count": null,
   "metadata": {},
   "outputs": [],
   "source": [
    "audio_data = \"./Data/Alexander.wav\"\n",
    "x , sr = librosa.load(audio_data)\n",
    "print(type(x), type(sr))\n",
    "print(x.shape, sr)"
   ]
  },
  {
   "cell_type": "code",
   "execution_count": null,
   "metadata": {},
   "outputs": [],
   "source": [
    "ipd.Audio(audio_data)"
   ]
  },
  {
   "cell_type": "code",
   "execution_count": null,
   "metadata": {},
   "outputs": [],
   "source": [
    "#plt.figure(figsize=(14, 5))\n",
    "#librosa.display.waveshow(x, sr=sr)\n",
    "plt.figure(figsize=(14, 5))\n",
    "plt.plot(x)\n",
    "plt.xlabel('Sample')\n",
    "plt.ylabel('Amplitude')\n",
    "plt.title('Waveform')\n",
    "plt.show()"
   ]
  },
  {
   "cell_type": "code",
   "execution_count": null,
   "metadata": {},
   "outputs": [],
   "source": [
    "X = librosa.stft(x)\n",
    "Xdb = librosa.amplitude_to_db(abs(X))\n",
    "plt.figure(figsize=(14, 5))\n",
    "librosa.display.specshow(Xdb, sr=sr, x_axis='time', y_axis='hz')\n",
    "plt.colorbar()"
   ]
  },
  {
   "cell_type": "code",
   "execution_count": null,
   "metadata": {},
   "outputs": [],
   "source": [
    "audio_data = \"./Data/Aria.wav\"\n",
    "x , sr = librosa.load(audio_data)\n",
    "print(type(x), type(sr))\n",
    "print(x.shape, sr)\n",
    "ipd.Audio(audio_data)\n",
    "#plt.figure(figsize=(14, 5))\n",
    "#librosa.display.waveshow(x, sr=sr)\n",
    "plt.figure(figsize=(14, 5))\n",
    "plt.plot(x)\n",
    "plt.xlabel('Sample')\n",
    "plt.ylabel('Amplitude')\n",
    "plt.title('Waveform')\n",
    "plt.show()"
   ]
  },
  {
   "cell_type": "code",
   "execution_count": null,
   "metadata": {},
   "outputs": [],
   "source": [
    "X = librosa.stft(x)\n",
    "Xdb = librosa.amplitude_to_db(abs(X))\n",
    "plt.figure(figsize=(14, 5))\n",
    "librosa.display.specshow(Xdb, sr=sr, x_axis='time', y_axis='hz')\n",
    "plt.colorbar()"
   ]
  },
  {
   "cell_type": "code",
   "execution_count": null,
   "metadata": {},
   "outputs": [],
   "source": [
    "audio_data = \"./Data/Bob.wav\"\n",
    "x , sr = librosa.load(audio_data)\n",
    "print(type(x), type(sr))\n",
    "print(x.shape, sr)\n",
    "\n",
    "#plt.figure(figsize=(14, 5))\n",
    "#librosa.display.waveshow(x, sr=sr)\n",
    "plt.figure(figsize=(14, 5))\n",
    "plt.plot(x)\n",
    "plt.xlabel('Sample')\n",
    "plt.ylabel('Amplitude')\n",
    "plt.title('Waveform')\n",
    "plt.show()"
   ]
  },
  {
   "cell_type": "code",
   "execution_count": null,
   "metadata": {},
   "outputs": [],
   "source": [
    "X = librosa.stft(x)\n",
    "Xdb = librosa.amplitude_to_db(abs(X))\n",
    "plt.figure(figsize=(14, 5))\n",
    "librosa.display.specshow(Xdb, sr=sr, x_axis='time', y_axis='hz')\n",
    "plt.colorbar()"
   ]
  },
  {
   "cell_type": "code",
   "execution_count": null,
   "metadata": {},
   "outputs": [],
   "source": [
    "audio_data = \"./Data/Echo.wav\"\n",
    "x , sr = librosa.load(audio_data)\n",
    "print(type(x), type(sr))\n",
    "print(x.shape, sr)\n",
    "\n",
    "#plt.figure(figsize=(14, 5))\n",
    "#librosa.display.waveshow(x, sr=sr)\n",
    "plt.figure(figsize=(14, 5))\n",
    "plt.plot(x)\n",
    "plt.xlabel('Sample')\n",
    "plt.ylabel('Amplitude')\n",
    "plt.title('Waveform')\n",
    "plt.show()"
   ]
  },
  {
   "cell_type": "code",
   "execution_count": null,
   "metadata": {},
   "outputs": [],
   "source": [
    "X = librosa.stft(x)\n",
    "Xdb = librosa.amplitude_to_db(abs(X))\n",
    "plt.figure(figsize=(14, 5))\n",
    "librosa.display.specshow(Xdb, sr=sr, x_axis='time', y_axis='hz')\n",
    "plt.colorbar()"
   ]
  },
  {
   "cell_type": "code",
   "execution_count": null,
   "metadata": {},
   "outputs": [],
   "source": [
    "audio_data = \"./Data/EchoSync.wav\"\n",
    "x , sr = librosa.load(audio_data)\n",
    "print(type(x), type(sr))\n",
    "print(x.shape, sr)\n",
    "\n",
    "#plt.figure(figsize=(14, 5))\n",
    "#librosa.display.waveshow(x, sr=sr)\n",
    "plt.figure(figsize=(14, 5))\n",
    "plt.plot(x)\n",
    "plt.xlabel('Sample')\n",
    "plt.ylabel('Amplitude')\n",
    "plt.title('Waveform')\n",
    "plt.show()"
   ]
  },
  {
   "cell_type": "code",
   "execution_count": null,
   "metadata": {},
   "outputs": [],
   "source": [
    "X = librosa.stft(x)\n",
    "Xdb = librosa.amplitude_to_db(abs(X))\n",
    "plt.figure(figsize=(14, 5))\n",
    "librosa.display.specshow(Xdb, sr=sr, x_axis='time', y_axis='hz')\n",
    "plt.colorbar()"
   ]
  },
  {
   "cell_type": "code",
   "execution_count": null,
   "metadata": {},
   "outputs": [],
   "source": [
    "audio_data = \"./Data/Endre.wav\"\n",
    "x , sr = librosa.load(audio_data)\n",
    "print(type(x), type(sr))\n",
    "print(x.shape, sr)\n",
    "\n",
    "#plt.figure(figsize=(14, 5))\n",
    "#librosa.display.waveshow(x, sr=sr)\n",
    "plt.figure(figsize=(14, 5))\n",
    "plt.plot(x)\n",
    "plt.xlabel('Sample')\n",
    "plt.ylabel('Amplitude')\n",
    "plt.title('Waveform')\n",
    "plt.show()"
   ]
  },
  {
   "cell_type": "code",
   "execution_count": null,
   "metadata": {},
   "outputs": [],
   "source": [
    "X = librosa.stft(x)\n",
    "Xdb = librosa.amplitude_to_db(abs(X))\n",
    "plt.figure(figsize=(14, 5))\n",
    "librosa.display.specshow(Xdb, sr=sr, x_axis='time', y_axis='hz')\n",
    "plt.colorbar()"
   ]
  },
  {
   "cell_type": "code",
   "execution_count": null,
   "metadata": {},
   "outputs": [],
   "source": [
    "audio_data = \"./Data/Luna.wav\"\n",
    "x , sr = librosa.load(audio_data)\n",
    "print(type(x), type(sr))\n",
    "print(x.shape, sr)\n",
    "\n",
    "#plt.figure(figsize=(14, 5))\n",
    "#librosa.display.waveshow(x, sr=sr)\n",
    "plt.figure(figsize=(14, 5))\n",
    "plt.plot(x)\n",
    "plt.xlabel('Sample')\n",
    "plt.ylabel('Amplitude')\n",
    "plt.title('Waveform')\n",
    "plt.show()"
   ]
  },
  {
   "cell_type": "code",
   "execution_count": null,
   "metadata": {},
   "outputs": [],
   "source": [
    "X = librosa.stft(x)\n",
    "Xdb = librosa.amplitude_to_db(abs(X))\n",
    "plt.figure(figsize=(14, 5))\n",
    "librosa.display.specshow(Xdb, sr=sr, x_axis='time', y_axis='hz')\n",
    "plt.colorbar()"
   ]
  },
  {
   "cell_type": "code",
   "execution_count": null,
   "metadata": {},
   "outputs": [],
   "source": [
    "audio_data = \"./Data/Lyra.wav\"\n",
    "x , sr = librosa.load(audio_data)\n",
    "print(type(x), type(sr))\n",
    "print(x.shape, sr)\n",
    "\n",
    "#plt.figure(figsize=(14, 5))\n",
    "#librosa.display.waveshow(x, sr=sr)\n",
    "plt.figure(figsize=(14, 5))\n",
    "plt.plot(x)\n",
    "plt.xlabel('Sample')\n",
    "plt.ylabel('Amplitude')\n",
    "plt.title('Waveform')\n",
    "plt.show()"
   ]
  },
  {
   "cell_type": "code",
   "execution_count": null,
   "metadata": {},
   "outputs": [],
   "source": [
    "X = librosa.stft(x)\n",
    "Xdb = librosa.amplitude_to_db(abs(X))\n",
    "plt.figure(figsize=(14, 5))\n",
    "librosa.display.specshow(Xdb, sr=sr, x_axis='time', y_axis='hz')\n",
    "plt.colorbar()"
   ]
  },
  {
   "cell_type": "code",
   "execution_count": null,
   "metadata": {},
   "outputs": [],
   "source": [
    "audio_data = \"./Data/Nova.wav\"\n",
    "x , sr = librosa.load(audio_data)\n",
    "print(type(x), type(sr))\n",
    "print(x.shape, sr)\n",
    "\n",
    "#plt.figure(figsize=(14, 5))\n",
    "#librosa.display.waveshow(x, sr=sr)\n",
    "plt.figure(figsize=(14, 5))\n",
    "plt.plot(x)\n",
    "plt.xlabel('Sample')\n",
    "plt.ylabel('Amplitude')\n",
    "plt.title('Waveform')\n",
    "plt.show()"
   ]
  },
  {
   "cell_type": "code",
   "execution_count": null,
   "metadata": {},
   "outputs": [],
   "source": [
    "X = librosa.stft(x)\n",
    "Xdb = librosa.amplitude_to_db(abs(X))\n",
    "plt.figure(figsize=(14, 5))\n",
    "librosa.display.specshow(Xdb, sr=sr, x_axis='time', y_axis='hz')\n",
    "plt.colorbar()"
   ]
  },
  {
   "cell_type": "code",
   "execution_count": null,
   "metadata": {},
   "outputs": [],
   "source": [
    "audio_data = \"./Data/Preben.wav\"\n",
    "x , sr = librosa.load(audio_data)\n",
    "print(type(x), type(sr))\n",
    "print(x.shape, sr)\n",
    "\n",
    "#plt.figure(figsize=(14, 5))\n",
    "#librosa.display.waveshow(x, sr=sr)\n",
    "plt.figure(figsize=(14, 5))\n",
    "plt.plot(x)\n",
    "plt.xlabel('Sample')\n",
    "plt.ylabel('Amplitude')\n",
    "plt.title('Waveform')\n",
    "plt.show()"
   ]
  },
  {
   "cell_type": "code",
   "execution_count": null,
   "metadata": {},
   "outputs": [],
   "source": [
    "X = librosa.stft(x)\n",
    "Xdb = librosa.amplitude_to_db(abs(X))\n",
    "plt.figure(figsize=(14, 5))\n",
    "librosa.display.specshow(Xdb, sr=sr, x_axis='time', y_axis='hz')\n",
    "plt.colorbar()"
   ]
  },
  {
   "cell_type": "code",
   "execution_count": null,
   "metadata": {},
   "outputs": [],
   "source": [
    "audio_data = \"./Data/Siri.wav\"\n",
    "x , sr = librosa.load(audio_data)\n",
    "print(type(x), type(sr))\n",
    "print(x.shape, sr)\n",
    "\n",
    "#plt.figure(figsize=(14, 5))\n",
    "#librosa.display.waveshow(x, sr=sr)\n",
    "plt.figure(figsize=(14, 5))\n",
    "plt.plot(x)\n",
    "plt.xlabel('Sample')\n",
    "plt.ylabel('Amplitude')\n",
    "plt.title('Waveform')\n",
    "plt.show()"
   ]
  },
  {
   "cell_type": "code",
   "execution_count": null,
   "metadata": {},
   "outputs": [],
   "source": [
    "X = librosa.stft(x)\n",
    "Xdb = librosa.amplitude_to_db(abs(X))\n",
    "plt.figure(figsize=(14, 5))\n",
    "librosa.display.specshow(Xdb, sr=sr, x_axis='time', y_axis='hz')\n",
    "plt.colorbar()"
   ]
  },
  {
   "cell_type": "code",
   "execution_count": null,
   "metadata": {},
   "outputs": [],
   "source": [
    "audio_data = \"./Data/Soundsense.wav\"\n",
    "x , sr = librosa.load(audio_data)\n",
    "print(type(x), type(sr))\n",
    "print(x.shape, sr)\n",
    "\n",
    "#plt.figure(figsize=(14, 5))\n",
    "#librosa.display.waveshow(x, sr=sr)\n",
    "plt.figure(figsize=(14, 5))\n",
    "plt.plot(x)\n",
    "plt.xlabel('Sample')\n",
    "plt.ylabel('Amplitude')\n",
    "plt.title('Waveform')\n",
    "plt.show()"
   ]
  },
  {
   "cell_type": "code",
   "execution_count": null,
   "metadata": {},
   "outputs": [],
   "source": [
    "X = librosa.stft(x)\n",
    "Xdb = librosa.amplitude_to_db(abs(X))\n",
    "plt.figure(figsize=(14, 5))\n",
    "librosa.display.specshow(Xdb, sr=sr, x_axis='time', y_axis='hz')\n",
    "plt.colorbar()"
   ]
  },
  {
   "cell_type": "code",
   "execution_count": null,
   "metadata": {},
   "outputs": [],
   "source": [
    "audio_data = \"./Data/Speakease.wav\"\n",
    "x , sr = librosa.load(audio_data)\n",
    "print(type(x), type(sr))\n",
    "print(x.shape, sr)\n",
    "\n",
    "#plt.figure(figsize=(14, 5))\n",
    "#librosa.display.waveshow(x, sr=sr)\n",
    "plt.figure(figsize=(14, 5))\n",
    "plt.plot(x)\n",
    "plt.xlabel('Sample')\n",
    "plt.ylabel('Amplitude')\n",
    "plt.title('Waveform')\n",
    "plt.show()"
   ]
  },
  {
   "cell_type": "code",
   "execution_count": null,
   "metadata": {},
   "outputs": [],
   "source": [
    "X = librosa.stft(x)\n",
    "Xdb = librosa.amplitude_to_db(abs(X))\n",
    "plt.figure(figsize=(14, 5))\n",
    "librosa.display.specshow(Xdb, sr=sr, x_axis='time', y_axis='hz')\n",
    "plt.colorbar()"
   ]
  },
  {
   "cell_type": "code",
   "execution_count": null,
   "metadata": {},
   "outputs": [],
   "source": [
    "audio_data = \"./Data/VoiceMate.wav\"\n",
    "x , sr = librosa.load(audio_data)\n",
    "print(type(x), type(sr))\n",
    "print(x.shape, sr)\n",
    "\n",
    "#plt.figure(figsize=(14, 5))\n",
    "#librosa.display.waveshow(x, sr=sr)\n",
    "plt.figure(figsize=(14, 5))\n",
    "plt.plot(x)\n",
    "plt.xlabel('Sample')\n",
    "plt.ylabel('Amplitude')\n",
    "plt.title('Waveform')\n",
    "plt.show()"
   ]
  },
  {
   "cell_type": "code",
   "execution_count": null,
   "metadata": {},
   "outputs": [],
   "source": [
    "X = librosa.stft(x)\n",
    "Xdb = librosa.amplitude_to_db(abs(X))\n",
    "plt.figure(figsize=(14, 5))\n",
    "librosa.display.specshow(Xdb, sr=sr, x_axis='time', y_axis='hz')\n",
    "plt.colorbar()"
   ]
  },
  {
   "cell_type": "code",
   "execution_count": null,
   "metadata": {},
   "outputs": [],
   "source": [
    "audio_data = \"./Data/VoxAI.wav\"\n",
    "x , sr = librosa.load(audio_data)\n",
    "print(type(x), type(sr))\n",
    "print(x.shape, sr)\n",
    "\n",
    "#plt.figure(figsize=(14, 5))\n",
    "#librosa.display.waveshow(x, sr=sr)\n",
    "plt.figure(figsize=(14, 5))\n",
    "plt.plot(x)\n",
    "plt.xlabel('Sample')\n",
    "plt.ylabel('Amplitude')\n",
    "plt.title('Waveform')\n",
    "plt.show()"
   ]
  },
  {
   "cell_type": "code",
   "execution_count": null,
   "metadata": {},
   "outputs": [],
   "source": [
    "X = librosa.stft(x)\n",
    "Xdb = librosa.amplitude_to_db(abs(X))\n",
    "plt.figure(figsize=(14, 5))\n",
    "librosa.display.specshow(Xdb, sr=sr, x_axis='time', y_axis='hz')\n",
    "plt.colorbar()"
   ]
  }
 ],
 "metadata": {
  "kernelspec": {
   "display_name": "assistant_env",
   "language": "python",
   "name": "python3"
  },
  "language_info": {
   "codemirror_mode": {
    "name": "ipython",
    "version": 3
   },
   "file_extension": ".py",
   "mimetype": "text/x-python",
   "name": "python",
   "nbconvert_exporter": "python",
   "pygments_lexer": "ipython3",
   "version": "3.10.0"
  }
 },
 "nbformat": 4,
 "nbformat_minor": 2
}
